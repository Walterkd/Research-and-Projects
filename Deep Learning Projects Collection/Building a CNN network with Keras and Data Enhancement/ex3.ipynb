{
 "cells": [
  {
   "cell_type": "markdown",
   "metadata": {},
   "source": [
    "# 视频1"
   ]
  },
  {
   "cell_type": "code",
   "execution_count": 1,
   "metadata": {},
   "outputs": [
    {
     "name": "stderr",
     "output_type": "stream",
     "text": [
      "Using TensorFlow backend.\n"
     ]
    }
   ],
   "source": [
    "import keras"
   ]
  },
  {
   "cell_type": "code",
   "execution_count": 2,
   "metadata": {},
   "outputs": [],
   "source": [
    "from keras.preprocessing.image import ImageDataGenerator, array_to_img, img_to_array, load_img"
   ]
  },
  {
   "cell_type": "code",
   "execution_count": 3,
   "metadata": {},
   "outputs": [],
   "source": [
    " datagen = ImageDataGenerator(\n",
    "         rotation_range=0.2,\n",
    "         width_shift_range=0.2,\n",
    "         height_shift_range=0.2,\n",
    "         shear_range=0.2,\n",
    "         zoom_range=0.2,\n",
    "         horizontal_flip=True,\n",
    "         fill_mode='nearest')\n",
    "#ImageDataGenerator　实现了大多数上文中提到的图像几何变换方法．\n",
    "#rotation_range: 旋转范围, 随机旋转(0-180)度;\n",
    "#width_shift and height_shift: 随机沿着水平或者垂直方向，以图像的长宽小部分百分比为变化范围进行平移;\n",
    "#rescale: 对图像按照指定的尺度因子, 进行放大或缩小, 设置值在0 - 1之间，通常为1 / 255;\n",
    "#shear_range: 水平或垂直投影变换\n",
    "#zoom_range: 按比例随机缩放图像尺寸;\n",
    "#horizontal_flip: 水平翻转图像;\n",
    "#fill_mode: 填充像素, 出现在旋转或平移之后"
   ]
  },
  {
   "cell_type": "code",
   "execution_count": 4,
   "metadata": {},
   "outputs": [],
   "source": [
    "img = load_img(r'./cat.jpg')  \n",
    "# 这里的路径是我放置的示例图片，请选择你自己的图片路径"
   ]
  },
  {
   "cell_type": "code",
   "execution_count": 5,
   "metadata": {},
   "outputs": [
    {
     "name": "stdout",
     "output_type": "stream",
     "text": [
      "(360, 480, 3)\n"
     ]
    }
   ],
   "source": [
    "x = img_to_array(img) \n",
    "print(x.shape)\n",
    "#将图片转化为矩阵进行处理"
   ]
  },
  {
   "cell_type": "code",
   "execution_count": 6,
   "metadata": {},
   "outputs": [
    {
     "name": "stdout",
     "output_type": "stream",
     "text": [
      "(1, 360, 480, 3)\n"
     ]
    }
   ],
   "source": [
    "x = x.reshape((1,) + x.shape)\n",
    "print(x.shape)"
   ]
  },
  {
   "cell_type": "code",
   "execution_count": 7,
   "metadata": {},
   "outputs": [],
   "source": [
    "i = 0\n",
    "for batch in datagen.flow(x,\n",
    "                           batch_size=1,\n",
    "                           save_to_dir=r'./result/',\n",
    "                           #生成后的图像保存路径\n",
    "                           save_prefix='cat',\n",
    "                           save_format='jpg'):\n",
    "    i += 1\n",
    "    if i > 20:\n",
    "        break  "
   ]
  },
  {
   "cell_type": "markdown",
   "metadata": {},
   "source": [
    "# 视频2"
   ]
  },
  {
   "cell_type": "code",
   "execution_count": 8,
   "metadata": {},
   "outputs": [],
   "source": [
    "import warnings\n",
    "\n",
    "from keras.layers import Conv2D\n",
    "from keras.layers import Dense\n",
    "from keras.layers import Dropout\n",
    "from keras.layers import Flatten\n",
    "from keras.layers import Input\n",
    "from keras.layers import MaxPooling2D\n",
    "from keras.models import Model\n",
    "\n",
    "\n",
    "# 实验二：用 keras 搭建一个简单的 CNN 网络\n",
    "def simple_cnn(input_shape, classes, weights_path=None):\n",
    "\n",
    "    # 输入层。shape 为函数参数值。\n",
    "    img_input = Input(shape=input_shape, name='cifar10_input')\n",
    "\n",
    "    # Block 1\n",
    "    # 两个 3*3 kernel_size 的卷积层，步长为 1*1，矩阵维度不变，filter 数量为 32\n",
    "    #    后跟一个最大池化层，kernel_size 为 2*2，步长为 2*2\n",
    "    x = Conv2D(32, (3, 3), activation='relu', padding='same', kernel_initializer='he_normal', name='block1_conv1')(img_input)\n",
    "    x = Conv2D(32, (3, 3), activation='relu', padding='same', kernel_initializer='he_normal', name='block1_conv2')(x)\n",
    "    # TODO:\n",
    "\n",
    "    x = MaxPooling2D((2, 2), strides=(2, 2), name='block1_pool')(x)\n",
    "\n",
    "    # Block 2\n",
    "    # 两个 3*3 kernel_size 的卷积层，步长为 1*1，矩阵维度不变，filter 数量为 64\n",
    "    #    后跟一个最大池化层，kernel_size 为 2*2，步长为 2*2\n",
    "    #    之后加一个 dropout，dropout_rate 设为 0.25\n",
    "    # TODO:\n",
    "    x = Conv2D(64, (3, 3), activation='relu', padding='same', kernel_initializer='he_normal', name='block2_conv1')(x)\n",
    "    x = Conv2D(64, (3, 3), activation='relu', padding='same', kernel_initializer='he_normal', name='block2_conv2')(x)\n",
    "    x = MaxPooling2D((2, 2), strides=(2, 2), name='block2_pool')(x)\n",
    "\n",
    "    x = Dropout(0.25)(x)\n",
    "\n",
    "    # Block 3\n",
    "    # 两个 3*3 kernel_size 的卷积层，步长为 1*1，矩阵维度不变，filter 数量为 128\n",
    "    #    后跟一个最大池化层，kernel_size 为 2*2，步长为 2*2\n",
    "    #    之后加一个 dropout，dropout_rate 设为 0.25\n",
    "    # TODO:\n",
    "    x = Conv2D(128, (3, 3), activation='relu', padding='same', kernel_initializer='he_normal', name='block3_conv1')(x)\n",
    "    x = Conv2D(128, (3, 3), activation='relu', padding='same', kernel_initializer='he_normal', name='block3_conv2')(x)\n",
    "    x = MaxPooling2D((2, 2), strides=(2, 2), name='block3_pool')(x)\n",
    "\n",
    "    x = Dropout(0.25)(x)\n",
    "    # FC Block\n",
    "    # 全连接层，第一层的神经元的数量为 1024，加一个 dropout，dropout_rate 为 0.5\n",
    "    #    然后是输出的全连接层，神经元数量为函数参数 classes，分类器使用 softmax\n",
    "    x = Flatten(name='flatten')(x)\n",
    "\n",
    "    # TODO:\n",
    "    x = Dense(1024, activation='relu', kernel_initializer='he_normal', name='fc')(x)\n",
    "    x = Dropout(0.5)(x)\n",
    "    x = Dense(classes, activation='softmax', kernel_initializer='he_normal', name='prediction_cifar10')(x)\n",
    "\n",
    "    model = Model(img_input, x, name='simple_cnn')\n",
    "    if weights_path:\n",
    "        model.load_weights(weights_path, by_name=False)\n",
    "    return model\n",
    "\n",
    "\n",
    "# VERY DEEP CONVOLUTIONAL NETWORKS FOR LARGE-SCALE IMAGE RECOGNITION\n",
    "def VGG16(input_shape=(224, 224, 3), classes=1000, weights_path=None, dropout=0.5):\n",
    "\n",
    "    img_input = Input(shape=input_shape, name='cifar10_input')\n",
    "\n",
    "    x = Conv2D(64, (3, 3), activation='relu', padding='same', name='block1_conv1')(img_input)\n",
    "    x = Conv2D(64, (3, 3), activation='relu', padding='same', name='block1_conv2')(x)\n",
    "    x = MaxPooling2D((2, 2), strides=(2, 2), name='block1_pool')(x)\n",
    "\n",
    "    # Block 2\n",
    "    x = Conv2D(128, (3, 3), activation='relu', padding='same', name='block2_conv1')(x)\n",
    "    x = Conv2D(128, (3, 3), activation='relu', padding='same', name='block2_conv2')(x)\n",
    "    x = MaxPooling2D((2, 2), strides=(2, 2), name='block2_pool')(x)\n",
    "\n",
    "    # Block 3\n",
    "    x = Conv2D(256, (3, 3), activation='relu', padding='same', name='block3_conv1')(x)\n",
    "    x = Conv2D(256, (3, 3), activation='relu', padding='same', name='block3_conv2')(x)\n",
    "    x = Conv2D(256, (3, 3), activation='relu', padding='same', name='block3_conv3')(x)\n",
    "    x = MaxPooling2D((2, 2), strides=(2, 2), name='block3_pool')(x)\n",
    "\n",
    "    # Block 4\n",
    "    x = Conv2D(512, (3, 3), activation='relu', padding='same', name='block4_conv1')(x)\n",
    "    x = Conv2D(512, (3, 3), activation='relu', padding='same', name='block4_conv2')(x)\n",
    "    x = Conv2D(512, (3, 3), activation='relu', padding='same', name='block4_conv3')(x)\n",
    "    x = MaxPooling2D((2, 2), strides=(2, 2), name='block4_pool')(x)\n",
    "\n",
    "    # Block 5\n",
    "    x = Conv2D(512, (3, 3), activation='relu', padding='same', name='block5_conv1')(x)\n",
    "    x = Conv2D(512, (3, 3), activation='relu', padding='same', name='block5_conv2')(x)\n",
    "    x = Conv2D(512, (3, 3), activation='relu', padding='same', name='block5_conv3')(x)\n",
    "    x = MaxPooling2D((2, 2), strides=(2, 2), name='block5_pool')(x)\n",
    "\n",
    "    x = Flatten(name='flatten')(x)\n",
    "    x = Dense(4096, activation='relu', kernel_initializer='he_normal', name='new_fc1')(x)\n",
    "    x = Dropout(dropout)(x)\n",
    "    x = Dense(4096, activation='relu', kernel_initializer='he_normal', name='new_fc2')(x)\n",
    "    x = Dropout(dropout)(x)\n",
    "    x = Dense(\n",
    "        classes, activation='softmax', kernel_initializer='he_normal', name='prediction_cifar10')(x)\n",
    "\n",
    "    model = Model(img_input, x, name='vgg16')\n",
    "    if not weights_path:\n",
    "        warnings.warn('The weights_path param is invalid.')\n",
    "    else:\n",
    "        model.load_weights(weights_path, by_name=True)\n",
    "    return model"
   ]
  },
  {
   "cell_type": "code",
   "execution_count": 9,
   "metadata": {},
   "outputs": [
    {
     "name": "stdout",
     "output_type": "stream",
     "text": [
      "_________________________________________________________________\n",
      "Layer (type)                 Output Shape              Param #   \n",
      "=================================================================\n",
      "cifar10_input (InputLayer)   (None, 32, 32, 3)         0         \n",
      "_________________________________________________________________\n",
      "block1_conv1 (Conv2D)        (None, 32, 32, 32)        896       \n",
      "_________________________________________________________________\n",
      "block1_conv2 (Conv2D)        (None, 32, 32, 32)        9248      \n",
      "_________________________________________________________________\n",
      "block1_pool (MaxPooling2D)   (None, 16, 16, 32)        0         \n",
      "_________________________________________________________________\n",
      "block2_conv1 (Conv2D)        (None, 16, 16, 64)        18496     \n",
      "_________________________________________________________________\n",
      "block2_conv2 (Conv2D)        (None, 16, 16, 64)        36928     \n",
      "_________________________________________________________________\n",
      "block2_pool (MaxPooling2D)   (None, 8, 8, 64)          0         \n",
      "_________________________________________________________________\n",
      "dropout_1 (Dropout)          (None, 8, 8, 64)          0         \n",
      "_________________________________________________________________\n",
      "block3_conv1 (Conv2D)        (None, 8, 8, 128)         73856     \n",
      "_________________________________________________________________\n",
      "block3_conv2 (Conv2D)        (None, 8, 8, 128)         147584    \n",
      "_________________________________________________________________\n",
      "block3_pool (MaxPooling2D)   (None, 4, 4, 128)         0         \n",
      "_________________________________________________________________\n",
      "dropout_2 (Dropout)          (None, 4, 4, 128)         0         \n",
      "_________________________________________________________________\n",
      "flatten (Flatten)            (None, 2048)              0         \n",
      "_________________________________________________________________\n",
      "fc (Dense)                   (None, 1024)              2098176   \n",
      "_________________________________________________________________\n",
      "dropout_3 (Dropout)          (None, 1024)              0         \n",
      "_________________________________________________________________\n",
      "prediction_cifar10 (Dense)   (None, 10)                10250     \n",
      "=================================================================\n",
      "Total params: 2,395,434\n",
      "Trainable params: 2,395,434\n",
      "Non-trainable params: 0\n",
      "_________________________________________________________________\n"
     ]
    }
   ],
   "source": [
    "cnn = simple_cnn((32,32,3), 10)\n",
    "cnn.summary()"
   ]
  },
  {
   "cell_type": "markdown",
   "metadata": {},
   "source": [
    "# 视频3"
   ]
  },
  {
   "cell_type": "code",
   "execution_count": 10,
   "metadata": {},
   "outputs": [],
   "source": [
    "from keras import optimizers\n",
    "from keras.preprocessing.image import ImageDataGenerator\n",
    "\n",
    "from keras.datasets import cifar10\n",
    "\n",
    "VGG_WEIGHTS_PATH = './vgg16.h5'\n",
    "CNN_WEIGHTS_PATH = './simple_cnn.h5'\n",
    "NUM_CLASSES = 10\n",
    "IMG_SHAPE = (32, 32, 3)"
   ]
  },
  {
   "cell_type": "code",
   "execution_count": 11,
   "metadata": {},
   "outputs": [
    {
     "name": "stdout",
     "output_type": "stream",
     "text": [
      "('simple shape:', (32, 32, 3))\n",
      "train samples: 50000; valid samples: 10000\n",
      "_________________________________________________________________\n",
      "Layer (type)                 Output Shape              Param #   \n",
      "=================================================================\n",
      "cifar10_input (InputLayer)   (None, 32, 32, 3)         0         \n",
      "_________________________________________________________________\n",
      "block1_conv1 (Conv2D)        (None, 32, 32, 32)        896       \n",
      "_________________________________________________________________\n",
      "block1_conv2 (Conv2D)        (None, 32, 32, 32)        9248      \n",
      "_________________________________________________________________\n",
      "block1_pool (MaxPooling2D)   (None, 16, 16, 32)        0         \n",
      "_________________________________________________________________\n",
      "block2_conv1 (Conv2D)        (None, 16, 16, 64)        18496     \n",
      "_________________________________________________________________\n",
      "block2_conv2 (Conv2D)        (None, 16, 16, 64)        36928     \n",
      "_________________________________________________________________\n",
      "block2_pool (MaxPooling2D)   (None, 8, 8, 64)          0         \n",
      "_________________________________________________________________\n",
      "dropout_4 (Dropout)          (None, 8, 8, 64)          0         \n",
      "_________________________________________________________________\n",
      "block3_conv1 (Conv2D)        (None, 8, 8, 128)         73856     \n",
      "_________________________________________________________________\n",
      "block3_conv2 (Conv2D)        (None, 8, 8, 128)         147584    \n",
      "_________________________________________________________________\n",
      "block3_pool (MaxPooling2D)   (None, 4, 4, 128)         0         \n",
      "_________________________________________________________________\n",
      "dropout_5 (Dropout)          (None, 4, 4, 128)         0         \n",
      "_________________________________________________________________\n",
      "flatten (Flatten)            (None, 2048)              0         \n",
      "_________________________________________________________________\n",
      "fc (Dense)                   (None, 1024)              2098176   \n",
      "_________________________________________________________________\n",
      "dropout_6 (Dropout)          (None, 1024)              0         \n",
      "_________________________________________________________________\n",
      "prediction_cifar10 (Dense)   (None, 10)                10250     \n",
      "=================================================================\n",
      "Total params: 2,395,434\n",
      "Trainable params: 2,395,434\n",
      "Non-trainable params: 0\n",
      "_________________________________________________________________\n"
     ]
    }
   ],
   "source": [
    "if __name__ == '__main__':\n",
    "    ((x_train, y_train), (x_valid, y_valid)) = cifar10.load_data()\n",
    "    y_train = keras.utils.to_categorical(y_train, NUM_CLASSES)\n",
    "    y_valid = keras.utils.to_categorical(y_valid, NUM_CLASSES)\n",
    "\n",
    "    print('simple shape:', x_train.shape[1:])\n",
    "    print('train samples: {}; valid samples: {}'.format(\n",
    "        x_train.shape[0], x_valid.shape[0]))\n",
    "\n",
    "    model=simple_cnn(IMG_SHAPE, NUM_CLASSES)\n",
    "    #learning rate\n",
    "    optimizer=optimizers.rmsprop(decay=1e-6,lr=1e-4)\n",
    "    model.compile(loss='categorical_crossentropy', optimizer=optimizer, metrics=['accuracy'])\n",
    "    model.summary()"
   ]
  },
  {
   "cell_type": "code",
   "execution_count": 12,
   "metadata": {},
   "outputs": [
    {
     "name": "stdout",
     "output_type": "stream",
     "text": [
      "(50000, 10)\n",
      "Train on 50000 samples, validate on 10000 samples\n",
      "Epoch 1/2\n",
      "50000/50000 [==============================] - 9s 179us/step - loss: 14.5080 - acc: 0.0999 - val_loss: 14.5063 - val_acc: 0.1000\n",
      "Epoch 2/2\n",
      "50000/50000 [==============================] - 6s 123us/step - loss: 14.5063 - acc: 0.1000 - val_loss: 14.5063 - val_acc: 0.1000\n"
     ]
    }
   ],
   "source": [
    "print (y_train.shape)\n",
    "if __name__ == '__main__':\n",
    "    model.fit(\n",
    "        x_train,\n",
    "        y_train,\n",
    "        #batch_size\n",
    "        batch_size = 256,\n",
    "        #epochs\n",
    "        epochs = 2,\n",
    "        validation_data=(x_valid, y_valid),\n",
    "        shuffle=True)\n",
    "    \n",
    "    model.save(model.name + '.h5')\n",
    "        \n",
    "    #train_VGG16(\n",
    "        #model=models.VGG16(IMG_SHAPE, NUM_CLASSES, VGG_WEIGHTS_PATH, dropout=1.0),\n",
    "        #batch_size=256,\n",
    "        #epochs=13,\n",
    "        #optimizer=optimizers.Adam(lr=1e-4, decay=1e-6),\n",
    "    #)"
   ]
  },
  {
   "cell_type": "markdown",
   "metadata": {},
   "source": [
    "# 视频4"
   ]
  },
  {
   "cell_type": "code",
   "execution_count": 13,
   "metadata": {},
   "outputs": [],
   "source": [
    "from PIL import Image\n",
    "import numpy as np\n",
    "from keras.models import load_model\n",
    "\n",
    "MODEL_PATH='simple_cnn.h5'\n",
    "IMG_PATH = 'cat2.jpg'\n",
    "\n",
    "d= {0:'airplane',\n",
    "   1:'automobile',\n",
    "   2:'bird',\n",
    "   3:'cat',\n",
    "   4:'deer',\n",
    "   5:'dog',\n",
    "   6:'frog',\n",
    "   7:'horse',\n",
    "   8:'ship',\n",
    "   9:'truck'}"
   ]
  },
  {
   "cell_type": "code",
   "execution_count": 14,
   "metadata": {},
   "outputs": [
    {
     "name": "stdout",
     "output_type": "stream",
     "text": [
      "_________________________________________________________________\n",
      "Layer (type)                 Output Shape              Param #   \n",
      "=================================================================\n",
      "cifar10_input (InputLayer)   (None, 32, 32, 3)         0         \n",
      "_________________________________________________________________\n",
      "block1_conv1 (Conv2D)        (None, 32, 32, 32)        896       \n",
      "_________________________________________________________________\n",
      "block1_conv2 (Conv2D)        (None, 32, 32, 32)        9248      \n",
      "_________________________________________________________________\n",
      "block1_pool (MaxPooling2D)   (None, 16, 16, 32)        0         \n",
      "_________________________________________________________________\n",
      "block2_conv1 (Conv2D)        (None, 16, 16, 64)        18496     \n",
      "_________________________________________________________________\n",
      "block2_conv2 (Conv2D)        (None, 16, 16, 64)        36928     \n",
      "_________________________________________________________________\n",
      "block2_pool (MaxPooling2D)   (None, 8, 8, 64)          0         \n",
      "_________________________________________________________________\n",
      "dropout_4 (Dropout)          (None, 8, 8, 64)          0         \n",
      "_________________________________________________________________\n",
      "block3_conv1 (Conv2D)        (None, 8, 8, 128)         73856     \n",
      "_________________________________________________________________\n",
      "block3_conv2 (Conv2D)        (None, 8, 8, 128)         147584    \n",
      "_________________________________________________________________\n",
      "block3_pool (MaxPooling2D)   (None, 4, 4, 128)         0         \n",
      "_________________________________________________________________\n",
      "dropout_5 (Dropout)          (None, 4, 4, 128)         0         \n",
      "_________________________________________________________________\n",
      "flatten (Flatten)            (None, 2048)              0         \n",
      "_________________________________________________________________\n",
      "fc (Dense)                   (None, 1024)              2098176   \n",
      "_________________________________________________________________\n",
      "dropout_6 (Dropout)          (None, 1024)              0         \n",
      "_________________________________________________________________\n",
      "prediction_cifar10 (Dense)   (None, 10)                10250     \n",
      "=================================================================\n",
      "Total params: 2,395,434\n",
      "Trainable params: 2,395,434\n",
      "Non-trainable params: 0\n",
      "_________________________________________________________________\n"
     ]
    },
    {
     "data": {
      "text/plain": [
       "<PIL.JpegImagePlugin.JpegImageFile image mode=RGB size=768x768 at 0x7EFBC87FB7A0>"
      ]
     },
     "execution_count": 14,
     "metadata": {},
     "output_type": "execute_result"
    }
   ],
   "source": [
    "model =load_model(MODEL_PATH)\n",
    "model.summary()\n",
    "img=Image.open(IMG_PATH)\n",
    "img"
   ]
  },
  {
   "cell_type": "code",
   "execution_count": 15,
   "metadata": {},
   "outputs": [],
   "source": [
    "img = img.resize((32, 32))  \n",
    "data=np.array(img)\n",
    "data=data.reshape(1,32,32,3)"
   ]
  },
  {
   "cell_type": "code",
   "execution_count": 16,
   "metadata": {},
   "outputs": [
    {
     "name": "stdout",
     "output_type": "stream",
     "text": [
      ">>> the predict result is : airplane\n"
     ]
    }
   ],
   "source": [
    "result=model.predict(data).round(0)\n",
    "result=np.where(result[0]==1)\n",
    "result=result[0].tolist()[0]\n",
    "print (('>>> the predict result is : {}').format(d[result]))"
   ]
  },
  {
   "cell_type": "code",
   "execution_count": 17,
   "metadata": {},
   "outputs": [],
   "source": [
    "from keras.models import load_model\n",
    "from keras.datasets import cifar10\n",
    "\n",
    "MODEL_PATH='simple_cnn.h5'\n",
    "\n",
    "((x_train, y_train), (x_test, y_test)) = cifar10.load_data()\n",
    "y_train = keras.utils.to_categorical(y_train, NUM_CLASSES)\n",
    "y_test = keras.utils.to_categorical(y_test, NUM_CLASSES)"
   ]
  },
  {
   "cell_type": "code",
   "execution_count": 18,
   "metadata": {},
   "outputs": [
    {
     "name": "stdout",
     "output_type": "stream",
     "text": [
      "_________________________________________________________________\n",
      "Layer (type)                 Output Shape              Param #   \n",
      "=================================================================\n",
      "cifar10_input (InputLayer)   (None, 32, 32, 3)         0         \n",
      "_________________________________________________________________\n",
      "block1_conv1 (Conv2D)        (None, 32, 32, 32)        896       \n",
      "_________________________________________________________________\n",
      "block1_conv2 (Conv2D)        (None, 32, 32, 32)        9248      \n",
      "_________________________________________________________________\n",
      "block1_pool (MaxPooling2D)   (None, 16, 16, 32)        0         \n",
      "_________________________________________________________________\n",
      "block2_conv1 (Conv2D)        (None, 16, 16, 64)        18496     \n",
      "_________________________________________________________________\n",
      "block2_conv2 (Conv2D)        (None, 16, 16, 64)        36928     \n",
      "_________________________________________________________________\n",
      "block2_pool (MaxPooling2D)   (None, 8, 8, 64)          0         \n",
      "_________________________________________________________________\n",
      "dropout_4 (Dropout)          (None, 8, 8, 64)          0         \n",
      "_________________________________________________________________\n",
      "block3_conv1 (Conv2D)        (None, 8, 8, 128)         73856     \n",
      "_________________________________________________________________\n",
      "block3_conv2 (Conv2D)        (None, 8, 8, 128)         147584    \n",
      "_________________________________________________________________\n",
      "block3_pool (MaxPooling2D)   (None, 4, 4, 128)         0         \n",
      "_________________________________________________________________\n",
      "dropout_5 (Dropout)          (None, 4, 4, 128)         0         \n",
      "_________________________________________________________________\n",
      "flatten (Flatten)            (None, 2048)              0         \n",
      "_________________________________________________________________\n",
      "fc (Dense)                   (None, 1024)              2098176   \n",
      "_________________________________________________________________\n",
      "dropout_6 (Dropout)          (None, 1024)              0         \n",
      "_________________________________________________________________\n",
      "prediction_cifar10 (Dense)   (None, 10)                10250     \n",
      "=================================================================\n",
      "Total params: 2,395,434\n",
      "Trainable params: 2,395,434\n",
      "Non-trainable params: 0\n",
      "_________________________________________________________________\n"
     ]
    }
   ],
   "source": [
    "model =load_model('simple_cnn.h5')\n",
    "model.summary()"
   ]
  },
  {
   "cell_type": "code",
   "execution_count": 19,
   "metadata": {},
   "outputs": [
    {
     "name": "stdout",
     "output_type": "stream",
     "text": [
      "10000/10000 [==============================] - 1s 114us/step\n",
      "valid loss:14.5062856644, valid accuracy:0.1\n"
     ]
    }
   ],
   "source": [
    "scores = model.evaluate(x_test, y_test, verbose=1)\n",
    "print(('valid loss:{}, valid accuracy:{}').format(scores[0], scores[1]))"
   ]
  },
  {
   "cell_type": "code",
   "execution_count": null,
   "metadata": {},
   "outputs": [],
   "source": []
  }
 ],
 "metadata": {
  "kernelspec": {
   "display_name": "Python 2",
   "language": "python",
   "name": "python2"
  },
  "language_info": {
   "codemirror_mode": {
    "name": "ipython",
    "version": 2
   },
   "file_extension": ".py",
   "mimetype": "text/x-python",
   "name": "python",
   "nbconvert_exporter": "python",
   "pygments_lexer": "ipython2",
   "version": "2.7.5"
  }
 },
 "nbformat": 4,
 "nbformat_minor": 2
}
