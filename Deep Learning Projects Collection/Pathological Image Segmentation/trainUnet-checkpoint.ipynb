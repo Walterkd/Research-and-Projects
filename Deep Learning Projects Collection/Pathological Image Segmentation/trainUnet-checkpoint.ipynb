{
 "cells": [
  {
   "cell_type": "code",
   "execution_count": 1,
   "metadata": {},
   "outputs": [
    {
     "name": "stderr",
     "output_type": "stream",
     "text": [
      "Using TensorFlow backend.\n"
     ]
    }
   ],
   "source": [
    "from model import *\n",
    "from data import *"
   ]
  },
  {
   "cell_type": "markdown",
   "metadata": {},
   "source": [
    "## Train your Unet with membrane data\n",
    "membrane data is in folder membrane/, it is a binary classification task.\n",
    "\n",
    "The input shape of image and mask are the same :(batch_size,rows,cols,channel = 1)"
   ]
  },
  {
   "cell_type": "markdown",
   "metadata": {},
   "source": [
    "### Train with data generator"
   ]
  },
  {
   "cell_type": "code",
   "execution_count": 2,
   "metadata": {},
   "outputs": [
    {
     "name": "stdout",
     "output_type": "stream",
     "text": [
      "WARNING:tensorflow:From /home/donghuihui/anaconda3/envs/py2/lib/python2.7/site-packages/keras/backend/tensorflow_backend.py:1299: calling reduce_mean (from tensorflow.python.ops.math_ops) with keep_dims is deprecated and will be removed in a future version.\n",
      "Instructions for updating:\n",
      "keep_dims is deprecated, use keepdims instead\n"
     ]
    },
    {
     "name": "stderr",
     "output_type": "stream",
     "text": [
      "model.py:55: UserWarning: Update your `Model` call to the Keras 2 API: `Model(outputs=Tensor(\"co..., inputs=Tensor(\"in...)`\n",
      "  model = Model(input = inputs, output = conv10)\n"
     ]
    },
    {
     "name": "stdout",
     "output_type": "stream",
     "text": [
      "Epoch 1/5\n",
      "Found 30 images belonging to 1 classes.\n",
      "Found 30 images belonging to 1 classes.\n",
      "1999/2000 [============================>.] - ETA: 0s - loss: 0.2504 - acc: 0.9119Epoch 00000: loss improved from inf to 0.25040, saving model to unet_membrane.hdf5\n",
      "2000/2000 [==============================] - 224s - loss: 0.2504 - acc: 0.9119   \n",
      "Epoch 2/5\n",
      "1999/2000 [============================>.] - ETA: 0s - loss: 0.1916 - acc: 0.9427Epoch 00001: loss improved from 0.25040 to 0.19162, saving model to unet_membrane.hdf5\n",
      "2000/2000 [==============================] - 225s - loss: 0.1916 - acc: 0.9427   \n",
      "Epoch 3/5\n",
      "1999/2000 [============================>.] - ETA: 0s - loss: 0.1596 - acc: 0.9575Epoch 00002: loss improved from 0.19162 to 0.15955, saving model to unet_membrane.hdf5\n",
      "2000/2000 [==============================] - 225s - loss: 0.1595 - acc: 0.9575   \n",
      "Epoch 4/5\n",
      "1999/2000 [============================>.] - ETA: 0s - loss: 0.1363 - acc: 0.9664Epoch 00003: loss improved from 0.15955 to 0.13634, saving model to unet_membrane.hdf5\n",
      "2000/2000 [==============================] - 221s - loss: 0.1363 - acc: 0.9664   \n",
      "Epoch 5/5\n",
      "1999/2000 [============================>.] - ETA: 0s - loss: 0.1188 - acc: 0.9719Epoch 00004: loss improved from 0.13634 to 0.11877, saving model to unet_membrane.hdf5\n",
      "2000/2000 [==============================] - 225s - loss: 0.1188 - acc: 0.9719   \n"
     ]
    },
    {
     "data": {
      "text/plain": [
       "<keras.callbacks.History at 0xb4718d0>"
      ]
     },
     "execution_count": 2,
     "metadata": {},
     "output_type": "execute_result"
    }
   ],
   "source": [
    "data_gen_args = dict(rotation_range=0.2,\n",
    "                    width_shift_range=0.05,\n",
    "                    height_shift_range=0.05,\n",
    "                    shear_range=0.05,\n",
    "                    zoom_range=0.05,\n",
    "                    horizontal_flip=True,\n",
    "                    fill_mode='nearest')\n",
    "myGene = trainGenerator(2,'data/membrane/train','image','label',data_gen_args,save_to_dir = None)\n",
    "model = unet()\n",
    "model_checkpoint = ModelCheckpoint('unet_membrane.hdf5', monitor='loss',verbose=1, save_best_only=True)\n",
    "model.fit_generator(myGene,steps_per_epoch=2000,epochs=5,callbacks=[model_checkpoint])"
   ]
  },
  {
   "cell_type": "markdown",
   "metadata": {},
   "source": [
    "### test your model and save predicted results"
   ]
  },
  {
   "cell_type": "code",
   "execution_count": 3,
   "metadata": {},
   "outputs": [
    {
     "name": "stdout",
     "output_type": "stream",
     "text": [
      "30/30 [==============================] - 15s    \n"
     ]
    }
   ],
   "source": [
    "testGene = testGenerator(\"data/membrane/test\")\n",
    "model = unet()\n",
    "model.load_weights(\"unet_membrane_pre.hdf5\")\n",
    "results = model.predict_generator(testGene,30,verbose=1)\n",
    "saveResult(\"data/membrane/test\",results)"
   ]
  },
  {
   "cell_type": "code",
   "execution_count": null,
   "metadata": {},
   "outputs": [],
   "source": []
  }
 ],
 "metadata": {
  "kernelspec": {
   "display_name": "py2_cov",
   "language": "python",
   "name": "py2_cov"
  },
  "language_info": {
   "codemirror_mode": {
    "name": "ipython",
    "version": 2
   },
   "file_extension": ".py",
   "mimetype": "text/x-python",
   "name": "python",
   "nbconvert_exporter": "python",
   "pygments_lexer": "ipython2",
   "version": "2.7.5"
  }
 },
 "nbformat": 4,
 "nbformat_minor": 2
}
