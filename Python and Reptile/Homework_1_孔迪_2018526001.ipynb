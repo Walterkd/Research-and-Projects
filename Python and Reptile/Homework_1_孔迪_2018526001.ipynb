{
 "cells": [
  {
   "cell_type": "code",
   "execution_count": 1,
   "metadata": {},
   "outputs": [
    {
     "name": "stdout",
     "output_type": "stream",
     "text": [
      "7\n",
      "14\n",
      "21\n",
      "28\n",
      "42\n",
      "49\n",
      "56\n",
      "63\n",
      "77\n",
      "84\n",
      "91\n",
      "98\n"
     ]
    }
   ],
   "source": [
    "#求1-100之间能被7整除，但不能同时被5整除的所有整数\n",
    "#method_1\n",
    "i=0\n",
    "while i<101:\n",
    "    i=i+1\n",
    "    if i%7==0:#找出能被7整除的\n",
    "        if i%5==0:\n",
    "            continue#在满足能被7整除的情况下，去掉不能被5整除的\n",
    "        print(i)"
   ]
  },
  {
   "cell_type": "code",
   "execution_count": 2,
   "metadata": {},
   "outputs": [
    {
     "name": "stdout",
     "output_type": "stream",
     "text": [
      "7\n",
      "14\n",
      "21\n",
      "28\n",
      "42\n",
      "49\n",
      "56\n",
      "63\n",
      "77\n",
      "84\n",
      "91\n",
      "98\n"
     ]
    }
   ],
   "source": [
    "#求1-100之间能被7整除，但不能同时被5整除的所有整数\n",
    "#method_2\n",
    "for number in range(101):\n",
    "    if number%7==0:#找出能被7整除的\n",
    "        if number%5==0:#在满足能被7整除的情况下，去掉不能被5整除的\n",
    "            continue\n",
    "        print(number)"
   ]
  },
  {
   "cell_type": "code",
   "execution_count": 3,
   "metadata": {},
   "outputs": [
    {
     "name": "stdout",
     "output_type": "stream",
     "text": [
      "187\n"
     ]
    }
   ],
   "source": [
    "#求200以内能被17整除的最大正整数\n",
    "for n in range(200, 1, -1):#从后往前找，保证第一个找到的就是最大的\n",
    "    if n%17==0:\n",
    "        print(n)#满足能被17整除后，打印结果并跳出循环\n",
    "        break"
   ]
  },
  {
   "cell_type": "code",
   "execution_count": 5,
   "metadata": {},
   "outputs": [
    {
     "name": "stdout",
     "output_type": "stream",
     "text": [
      "The number of chicken is  15\n",
      "The number of rabbits is  15\n"
     ]
    }
   ],
   "source": [
    "#鸡兔同笼问题\n",
    "x=0#假设鸡有0只\n",
    "feet=0#总的脚的数量初值设为0\n",
    "while x<31:\n",
    "    y=30-x#鸡兔共30只\n",
    "    feet=2*x+4*y#脚的数量\n",
    "    if feet==90:#当脚的数量等于90时，跳出循环\n",
    "        break\n",
    "    x=x+1\n",
    "    \n",
    "print(\"The number of chicken is \", x)\n",
    "print(\"The number of rabbits is \", y)"
   ]
  },
  {
   "cell_type": "code",
   "execution_count": 6,
   "metadata": {},
   "outputs": [
    {
     "name": "stdout",
     "output_type": "stream",
     "text": [
      "The number of rooster is  0\n",
      "The number of hens is  25\n",
      "The number of chicks is  75\n",
      "The number of rooster is  4\n",
      "The number of hens is  18\n",
      "The number of chicks is  78\n",
      "The number of rooster is  8\n",
      "The number of hens is  11\n",
      "The number of chicks is  81\n",
      "The number of rooster is  12\n",
      "The number of hens is  4\n",
      "The number of chicks is  84\n"
     ]
    }
   ],
   "source": [
    "#百元买鸡问题\n",
    "x=0#设置公鸡数量初值\n",
    "number=0\n",
    "money=0\n",
    "while x<20:#公鸡数量不超过20只\n",
    "    y=0\n",
    "    while y<34:#母鸡数量不超过34只\n",
    "        y=y+1\n",
    "        z=100-x-y#小鸡的数量，总的数量必须等于100\n",
    "        money=5*x+3*y+z/3#总的花费\n",
    "        if money==100:#当花费正好等于100时得到公鸡，母鸡，小鸡的数量\n",
    "            print(\"The number of rooster is \", x)\n",
    "            print(\"The number of hens is \", y)\n",
    "            print(\"The number of chicks is \", z)\n",
    "            continue\n",
    "    x=x+1"
   ]
  },
  {
   "cell_type": "code",
   "execution_count": null,
   "metadata": {},
   "outputs": [],
   "source": []
  }
 ],
 "metadata": {
  "kernelspec": {
   "display_name": "Python 3",
   "language": "python",
   "name": "python3"
  },
  "language_info": {
   "codemirror_mode": {
    "name": "ipython",
    "version": 3
   },
   "file_extension": ".py",
   "mimetype": "text/x-python",
   "name": "python",
   "nbconvert_exporter": "python",
   "pygments_lexer": "ipython3",
   "version": "3.7.1"
  }
 },
 "nbformat": 4,
 "nbformat_minor": 2
}
