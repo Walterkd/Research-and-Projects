{
 "cells": [
  {
   "cell_type": "code",
   "execution_count": 1,
   "metadata": {},
   "outputs": [],
   "source": [
    "#实现分形树\n",
    "#基本思想：画两遍，第一遍绿色，第二遍红色，通过设置最后的截止长度实现红色对绿色的部分覆盖\n",
    "import turtle\n",
    "\n",
    "def draw_tree1(length):\n",
    "    if length >= 5:#控制最后截止的长度\n",
    "        turtle.forward(length)#向当前方向走length距离\n",
    "        turtle.right(25)#从当前方向往右偏25度\n",
    "        draw_tree1(length - 10)#再次调用draw_tree1这个函数，将距离缩短10\n",
    "        turtle.left(50)#从当前方向往左偏50度\n",
    "        draw_tree1(length - 10)#再次调用draw_tree1这个函数，将距离缩短10\n",
    "        turtle.right(25)#从当前方向往右偏25度\n",
    "        turtle.backward(length)#退回到前一个点\n",
    "        \n",
    "def draw_tree2(length):\n",
    "    if length >= 25:#控制最后截止的长度\n",
    "        turtle.forward(length)#向当前方向走length距离\n",
    "        turtle.right(25)#从当前方向往右偏25度\n",
    "        draw_tree2(length - 10)#再次调用draw_tree2这个函数，将距离缩短10\n",
    "        turtle.left(50)#从当前方向往左偏50度\n",
    "        draw_tree2(length - 10)#再次调用draw_tree2这个函数，将距离缩短10\n",
    "        turtle.right(25)#从当前方向往右偏25度\n",
    "        turtle.backward(length)#退回到前一个点\n",
    "        \n",
    "turtle.left(90)\n",
    "turtle.penup()\n",
    "turtle.color('green')#设置第一次颜色为绿色\n",
    "turtle.pendown()\n",
    "draw_tree1(70)\n",
    "turtle.color('red')#修改第二次颜色为红色\n",
    "draw_tree2(70)\n",
    "turtle.done()"
   ]
  },
  {
   "cell_type": "code",
   "execution_count": 3,
   "metadata": {},
   "outputs": [
    {
     "name": "stdout",
     "output_type": "stream",
     "text": [
      "请输入你要产生多少条双色球号码：8\n",
      "第1个：红球: 33 , 06 , 27 , 05 , 07 , 11 , 01 蓝球：01\n",
      "第2个：红球: 17 , 12 , 25 , 08 , 11 , 05 , 06 蓝球：06\n",
      "第3个：红球: 15 , 12 , 11 , 23 , 07 , 19 , 08 蓝球：08\n",
      "第4个：红球: 12 , 31 , 33 , 21 , 25 , 09 , 04 蓝球：04\n",
      "第5个：红球: 12 , 04 , 14 , 03 , 27 , 10 , 03 蓝球：03\n",
      "第6个：红球: 13 , 16 , 24 , 11 , 17 , 15 , 01 蓝球：01\n",
      "第7个：红球: 11 , 13 , 31 , 14 , 07 , 01 , 09 蓝球：09\n",
      "第8个：红球: 30 , 12 , 25 , 20 , 02 , 26 , 10 蓝球：10\n"
     ]
    }
   ],
   "source": [
    "#双色球投注\n",
    "import random, time\n",
    "\n",
    "def process_int(x):#这个函数用来把int类型转成字符串\n",
    "    x = str(x)\n",
    "    if len(x)==1:\n",
    "        x='0'+x#如果是个位数前面加0\n",
    "    return x\n",
    "def tickets(num):\n",
    "    red_nums = list(map(process_int, range(1,34)))\n",
    "    #红球，范围在1-33，使用map把每个元素传给process_int转成字符串\n",
    "    blue_nums = list(map(process_int,range(1,17)))\n",
    "    #蓝球，范围在1-16\n",
    "    res_list = []#保存所有的结果，用来写到文件里面\n",
    "    for i in range(1,num+1):\n",
    "        red_num = random.sample(red_nums, 6)\n",
    "        blue_num = random.sample(blue_nums, 1)\n",
    "        res = red_num+blue_num\n",
    "        format_str = '第%s个：红球: %s 蓝球：%s'%(i,' , '.join(res[:7]),res[-1])\n",
    "        res_list.append(format_str+'\\n')\n",
    "        print(format_str)\n",
    "        cur_time = time.strftime('%Y.%m.%d %H_%M_%S')\n",
    "        with open('%s.txt'%cur_time,'w',encoding='utf-8')as fw:\n",
    "            fw.writelines(res_list)\n",
    "if __name__=='__main__':\n",
    "    nums = input('请输入你要产生多少条双色球号码：').strip()\n",
    "    tickets(int(nums))"
   ]
  },
  {
   "cell_type": "code",
   "execution_count": 4,
   "metadata": {},
   "outputs": [
    {
     "name": "stdout",
     "output_type": "stream",
     "text": [
      "请输入圆的半径：10\n",
      "314.1592653589793\n"
     ]
    }
   ],
   "source": [
    "#编写函数计算圆的面积\n",
    "#coding=utf-8\n",
    "\n",
    "import math\n",
    "def area1(a):\n",
    "    area = a**2*math.pi\n",
    "    return area\n",
    "\n",
    "r_str = input(\"请输入圆的半径：\")\n",
    "\n",
    "r = eval(r_str) #将字符串转化为数值\n",
    "print(area1(r))\n"
   ]
  },
  {
   "cell_type": "code",
   "execution_count": 6,
   "metadata": {},
   "outputs": [
    {
     "name": "stdout",
     "output_type": "stream",
     "text": [
      "请输入第一个顶点坐标：7,18\n",
      "请输入第二个顶点坐标：4,67\n",
      "请输入第三个顶点坐标：3,102\n",
      "168.20121780107206\n"
     ]
    }
   ],
   "source": [
    "#输入三个坐标，计算三角形的周长\n",
    "import math\n",
    "def perimeter1(a1,b1,a2,b2,a3,b3):\n",
    "    l1=float(math.sqrt((a2-a3)*(a2-a3)+(b2-b3)*(b2-b3)))#点（a2,b2)到点(a3,b3)的距离\n",
    "    l2=float(math.sqrt((a1-a3)*(a1-a3)+(b1-b3)*(b1-b3)))#点（a1,b1)到点(a3,b3)的距离\n",
    "    l3=float(math.sqrt((a2-a1)*(a2-a1)+(b2-b1)*(b2-b1)))#点（a2,b2)到点(a1,b1)的距离\n",
    "    perimeter=l1+l2+l3#计算周长\n",
    "    return perimeter\n",
    "\n",
    "x1,y1=eval(input(\"请输入第一个顶点坐标：\"))\n",
    "x2,y2=eval(input(\"请输入第二个顶点坐标：\"))\n",
    "x3,y3=eval(input(\"请输入第三个顶点坐标：\"))\n",
    "if (y1-y2)/(x1-x2)==(y1-y3)/(x1-x3):#判断三点是否在一条直线上\n",
    "    print(\"他们构不成一个三角形！\")\n",
    "else:\n",
    "    print(perimeter1(x1,y1,x2,y2,x3,y3))"
   ]
  },
  {
   "cell_type": "code",
   "execution_count": null,
   "metadata": {},
   "outputs": [],
   "source": []
  }
 ],
 "metadata": {
  "kernelspec": {
   "display_name": "Python 3",
   "language": "python",
   "name": "python3"
  },
  "language_info": {
   "codemirror_mode": {
    "name": "ipython",
    "version": 3
   },
   "file_extension": ".py",
   "mimetype": "text/x-python",
   "name": "python",
   "nbconvert_exporter": "python",
   "pygments_lexer": "ipython3",
   "version": "3.7.1"
  }
 },
 "nbformat": 4,
 "nbformat_minor": 2
}
